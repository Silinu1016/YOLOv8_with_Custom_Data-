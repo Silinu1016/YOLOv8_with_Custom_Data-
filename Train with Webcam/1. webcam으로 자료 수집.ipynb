{
 "cells": [
  {
   "cell_type": "code",
   "execution_count": null,
   "id": "bd36d934",
   "metadata": {},
   "outputs": [],
   "source": [
    "import os\n",
    "import cv2"
   ]
  },
  {
   "cell_type": "code",
   "execution_count": 2,
   "id": "81ae418e",
   "metadata": {},
   "outputs": [],
   "source": [
    "# 파일 위치가 한글 경로가 존재할 때 사용함(없다면 제외하고 해도 상관 없음)\n",
    "def imwrite(filename, img, params=None):\n",
    "    try:\n",
    "        ext = os.path.splitext(filename)[1]\n",
    "        result, n = cv2.imencode(ext, img, params)\n",
    "        if result:\n",
    "            with open(filename, mode='w+b') as f:\n",
    "                n.tofile(f)\n",
    "            return True\n",
    "        else:\n",
    "            return False\n",
    "    except Exception as e:\n",
    "        print(e)\n",
    "        return False"
   ]
  },
  {
   "cell_type": "code",
   "execution_count": 3,
   "id": "e166b686",
   "metadata": {},
   "outputs": [],
   "source": [
    "# 현재 코드 위치 불러오기(편의상 A폴더라고 지칭함)\n",
    "path = os.getcwd()\n",
    "# A폴더/All_Data 폴더 생성하기\n",
    "Img_path = os.path.join(path,\"All_Data\")\n",
    "if not os.path.isdir(Img_path):\n",
    "    os.mkdir(Img_path)"
   ]
  },
  {
   "cell_type": "code",
   "execution_count": null,
   "id": "0efb3270",
   "metadata": {},
   "outputs": [],
   "source": [
    "# 카메라 켜기\n",
    "cap = cv2.VideoCapture(0)\n",
    "# 웹캠 오류 처리\n",
    "if not cap.isOpened():\n",
    "    print(\"camera open failed\")\n",
    "    exit()\n",
    "img_num = 284\n",
    "camera_num = 0\n",
    "while True:\n",
    "    # 카메라 읽기\n",
    "    status, img = cap.read()\n",
    "    if not status:\n",
    "        print(\"Can't read camera\")\n",
    "        break\n",
    "    # 카메라 창 띄우기\n",
    "    cv2.imshow(\"PC_Webcam\",img)\n",
    "    cv2.waitKey(300)\n",
    "    img_path = os.path.join(Img_path,f\"img{img_num}.png\")\n",
    "    # 한글 경로가 없다면 1번, 있다면 2번을 사용할 것\n",
    "    # 1번\n",
    "    # img_captured = cv2.imwrite(img_path,img)\n",
    "    # 2번\n",
    "    img_captured = imwrite(img_path,img)\n",
    "    img_num+=1\n",
    "    # esc 누르면 종료하기\n",
    "    if cv2.waitKey(1) == 27:\n",
    "        break\n",
    "cap.release()\n",
    "cv2.destroyAllWindows()"
   ]
  },
  {
   "cell_type": "code",
   "execution_count": null,
   "id": "ca70d932",
   "metadata": {},
   "outputs": [],
   "source": []
  }
 ],
 "metadata": {
  "kernelspec": {
   "display_name": "Python 3 (ipykernel)",
   "language": "python",
   "name": "python3"
  },
  "language_info": {
   "codemirror_mode": {
    "name": "ipython",
    "version": 3
   },
   "file_extension": ".py",
   "mimetype": "text/x-python",
   "name": "python",
   "nbconvert_exporter": "python",
   "pygments_lexer": "ipython3",
   "version": "3.9.16"
  }
 },
 "nbformat": 4,
 "nbformat_minor": 5
}
