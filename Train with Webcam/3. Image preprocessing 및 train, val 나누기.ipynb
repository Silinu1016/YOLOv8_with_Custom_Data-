{
 "cells": [
  {
   "cell_type": "code",
   "execution_count": 1,
   "id": "1a99376e",
   "metadata": {},
   "outputs": [],
   "source": [
    "import os\n",
    "import cv2\n",
    "import yaml\n",
    "import random\n",
    "import numpy as np"
   ]
  },
  {
   "cell_type": "code",
   "execution_count": 2,
   "id": "9b42b8de",
   "metadata": {},
   "outputs": [],
   "source": [
    "# 파일 위치가 한글 경로가 존재할 때 사용함(없다면 제외하고 해도 상관 없음)\n",
    "def imread(filename, flags=cv2.IMREAD_COLOR, dtype=np.uint8):\n",
    "    try:\n",
    "        n = np.fromfile(filename, dtype)\n",
    "        img = cv2.imdecode(n, flags)\n",
    "        return img\n",
    "    except Exception as e:\n",
    "        print(e)\n",
    "        return None\n",
    "\n",
    "# 파일 위치가 한글 경로가 존재할 때 사용함(없다면 제외하고 해도 상관 없음)\n",
    "def imwrite(filename, img, params=None):\n",
    "    try:\n",
    "        ext = os.path.splitext(filename)[1]\n",
    "        result, n = cv2.imencode(ext, img, params)\n",
    "        if result:\n",
    "            with open(filename, mode='w+b') as f:\n",
    "                n.tofile(f)\n",
    "            return True\n",
    "        else:\n",
    "            return False\n",
    "    except Exception as e:\n",
    "        print(e)\n",
    "        return False"
   ]
  },
  {
   "cell_type": "code",
   "execution_count": 3,
   "id": "e19a1a96",
   "metadata": {},
   "outputs": [],
   "source": [
    "def img_preprocessing(img_path):\n",
    "    # 한글 경로로 되어 있지 않을 때 1번, 한글 경로로 되어 있다면 2번을 사용함.\n",
    "    # 1번\n",
    "    #re_img = cv2.imread(img_path)\n",
    "    # 2번\n",
    "    img = imread(img_path)\n",
    "    \n",
    "    #전처리 부분\n",
    "    # 여기서 416,416으로 이미지 크기를 조정함.\n",
    "    # 이밖에 모자이크, 흑백 등의 전처리를 추가하고 싶다면 자유롭게 할 것.\n",
    "    re_img = cv2.resize(img, (416, 416))\n",
    "    return re_img"
   ]
  },
  {
   "cell_type": "code",
   "execution_count": 4,
   "id": "180ca7d7",
   "metadata": {},
   "outputs": [],
   "source": [
    "def save_files(file_name, Img_path, Change_img_path, Label_path, Change_label_path):\n",
    "    # A 폴더/train/images에 이미지 넣기, A 폴더/train/labels에 라벨 넣기\n",
    "    for file in file_name:\n",
    "        # 이미지 읽고 전처리 후 저장\n",
    "        img_path = os.path.join(Img_path,file+\".png\")\n",
    "        T_img_path = os.path.join(Change_img_path,file+\".png\")\n",
    "        p_img = img_preprocessing(img_path)\n",
    "        # 저장할 이미지 경로에 한글이 없다면 1번, 있다면 2번을 실행한다.\n",
    "        # 1번\n",
    "        #cv2.imwrite(Train_img_path,p_img)\n",
    "        # 2번\n",
    "        imwrite(T_img_path,p_img)\n",
    "\n",
    "        # 라벨 읽고 저장\n",
    "        label_path = os.path.join(Label_path, file+\".txt\")\n",
    "        T_label_path = os.path.join(Change_label_path, file+\".txt\")\n",
    "        f = open(label_path, 'r')\n",
    "        h = open(T_label_path,'w')\n",
    "        data = f.read()\n",
    "        h.write(data)\n",
    "        f.close()\n",
    "        h.close()"
   ]
  },
  {
   "cell_type": "code",
   "execution_count": 5,
   "id": "08c3adea",
   "metadata": {},
   "outputs": [],
   "source": [
    "# 이미지 저장 폴더(All_Data)에서 이미지 리스트 불러오기\n",
    "# 이 코드도 1번 코드와 동일한 위치(편의 상 A폴더라고 지칭함)에 있음\n",
    "path = os.getcwd()\n",
    "Img_path = os.path.join(path,\"All_Data\")\n",
    "file_list = os.listdir(Img_path)\n",
    "# 이미지 파일 이름 끝이 .png로 끝나므로 .png로 split 후 이름만 가져온다.\n",
    "file_name_list = [i.split(\".png\")[0] for i in file_list]"
   ]
  },
  {
   "cell_type": "code",
   "execution_count": 6,
   "id": "c0cfa832",
   "metadata": {},
   "outputs": [],
   "source": [
    "# 랜덤으로 데이터 섞은 후 train, validation 나누기(8:2 비율)\n",
    "random.shuffle(file_name_list)\n",
    "Split_Num = int(len(file_name_list) * 0.8)\n",
    "Train_file_name = file_name_list[:Split_Num]\n",
    "Valid_file_name = file_name_list[Split_Num:]"
   ]
  },
  {
   "cell_type": "code",
   "execution_count": 7,
   "id": "01f19612",
   "metadata": {},
   "outputs": [],
   "source": [
    "# Train 이미지는 A 폴더/train/images 폴더에, Labeling된 값들은 A 폴더/train/labels 폴더에 넣는다.\n",
    "# Validation 이미지는 A 폴더/valid/images 폴더에, Labeling된 값들은 A 폴더/valid/labels 폴더에 넣는다.\n",
    "# 이를 위해서 각각 폴더가 만들어있지 않으면 다음을 실행한다.\n",
    "path = os.getcwd()\n",
    "\n",
    "pre_img_file_path = os.path.join(path,\"All_Data\")\n",
    "pre_label_file_path = os.path.join(path,\"All_Data_label\")\n",
    "\n",
    "Train_path = os.path.join(path,\"train\")\n",
    "Valid_path = os.path.join(path,\"valid\")\n",
    "\n",
    "Train_img_path = os.path.join(Train_path,\"images\")\n",
    "Train_label_path = os.path.join(Train_path,\"labels\")\n",
    "Valid_img_path = os.path.join(Valid_path,\"images\")\n",
    "Valid_label_path = os.path.join(Valid_path,\"labels\")\n",
    "\n",
    "path_list = [Train_path,Valid_path,Train_img_path,Train_label_path,Valid_img_path,Valid_label_path]\n",
    "\n",
    "for p in path_list:\n",
    "    if not os.path.isdir(p):\n",
    "        os.mkdir(p)\n",
    "\n",
    "# 파일 저장\n",
    "save_files(Train_file_name, pre_img_file_path, Train_img_path, pre_label_file_path, Train_label_path)    \n",
    "save_files(Valid_file_name, pre_img_file_path, Valid_img_path, pre_label_file_path, Valid_label_path)    "
   ]
  },
  {
   "cell_type": "code",
   "execution_count": 8,
   "id": "4da9aa47",
   "metadata": {},
   "outputs": [
    {
     "data": {
      "text/plain": [
       "{'names': ['Finger_0',\n",
       "  'Finger_1',\n",
       "  'Finger_2',\n",
       "  'Finger_3',\n",
       "  'Finger_4',\n",
       "  'Finger_5'],\n",
       " 'nc': 6,\n",
       " 'train': 'C:\\\\Users\\\\USER\\\\Desktop\\\\수\\\\Yolo\\\\정리\\\\train\\\\images',\n",
       " 'val': 'C:\\\\Users\\\\USER\\\\Desktop\\\\수\\\\Yolo\\\\정리\\\\valid\\\\images'}"
      ]
     },
     "metadata": {},
     "output_type": "display_data"
    }
   ],
   "source": [
    "# train 위치, valid 위치 설정하기\n",
    "# nc = classes num(여기서는 0~5까지 6개이다.)\n",
    "# names = class 이름\n",
    "\n",
    "with open(os.path.join(pre_label_file_path,\"classes.txt\"),'r') as f:\n",
    "    data = f.read()\n",
    "    classes = data\n",
    "names = classes.split(\"\\n\")[:-1]\n",
    "nc = len(names)\n",
    "yaml_data = {'train': Train_img_path, 'val': Valid_img_path, \n",
    "          'nc': nc, 'names': names}\n",
    "yaml_path = os.path.join(path,'data.yaml')\n",
    "with open(yaml_path,'w') as f:\n",
    "    yaml.dump(yaml_data,f)\n",
    "# 잘 저장되었는 지 확인하기\n",
    "with open(yaml_path,'r') as f:\n",
    "    yaml_file = yaml.load(f, Loader=yaml.FullLoader)\n",
    "    display(yaml_file)"
   ]
  },
  {
   "cell_type": "code",
   "execution_count": null,
   "id": "a9769adb",
   "metadata": {},
   "outputs": [],
   "source": []
  }
 ],
 "metadata": {
  "kernelspec": {
   "display_name": "Python 3 (ipykernel)",
   "language": "python",
   "name": "python3"
  },
  "language_info": {
   "codemirror_mode": {
    "name": "ipython",
    "version": 3
   },
   "file_extension": ".py",
   "mimetype": "text/x-python",
   "name": "python",
   "nbconvert_exporter": "python",
   "pygments_lexer": "ipython3",
   "version": "3.9.16"
  }
 },
 "nbformat": 4,
 "nbformat_minor": 5
}
