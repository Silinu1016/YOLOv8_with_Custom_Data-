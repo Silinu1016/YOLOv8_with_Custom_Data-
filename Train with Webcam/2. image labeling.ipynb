{
 "cells": [
  {
   "cell_type": "code",
   "execution_count": null,
   "id": "496db76d",
   "metadata": {},
   "outputs": [],
   "source": []
  },
  {
   "cell_type": "code",
   "execution_count": null,
   "id": "84ad3111",
   "metadata": {},
   "outputs": [],
   "source": [
    "# git clone https://github.com/tzutalin/labelImg.git\n",
    "# cd labelImg\n",
    "# conda install pyqt=5\n",
    "# conda install –c anaconda lxml\n",
    "# pyrcc5 –o libs/resources.py resources.qrc\n",
    "# 혹시 안된다면('pyrcc5'은(는) 내부 또는 외부 명령, 실행할 수 있는 프로그램, 또는\n",
    "# 배치 파일이 아닙니다.) 에러 뜬다면\n",
    "# pip install pyqt5-tools 실행 후 재도전\n",
    "# python labelimg.py 실행(이후 클론된 위치/labelImg 위치에서 python labelImg.py를 실행하면 언제든지 실행 가능함\n"
   ]
  },
  {
   "cell_type": "code",
   "execution_count": null,
   "id": "44d88f3a",
   "metadata": {},
   "outputs": [],
   "source": [
    "# ~~\\labelImg\\data\\predefined_classes.txt에서 내용 전부 삭제 후 빈 txt 파일만 저장해놓기\n",
    "\n",
    "# 실행~~\n",
    "# Classes.txt\n",
    "# 본인의 파일 이미지 이름.txt 파일 저장됨\n",
    "# 클래스_번호(0번부터 시작) x_처음_위치 y_처음_위치 박스_크기(x) 박스_크기(y)\n"
   ]
  }
 ],
 "metadata": {
  "kernelspec": {
   "display_name": "Python 3 (ipykernel)",
   "language": "python",
   "name": "python3"
  },
  "language_info": {
   "codemirror_mode": {
    "name": "ipython",
    "version": 3
   },
   "file_extension": ".py",
   "mimetype": "text/x-python",
   "name": "python",
   "nbconvert_exporter": "python",
   "pygments_lexer": "ipython3",
   "version": "3.9.16"
  }
 },
 "nbformat": 4,
 "nbformat_minor": 5
}
